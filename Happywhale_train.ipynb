{
 "cells": [
  {
   "cell_type": "code",
   "execution_count": null,
   "metadata": {
    "execution": {
     "iopub.execute_input": "2022-02-21T20:22:00.341575Z",
     "iopub.status.busy": "2022-02-21T20:22:00.341352Z",
     "iopub.status.idle": "2022-02-21T20:22:04.359171Z",
     "shell.execute_reply": "2022-02-21T20:22:04.358285Z",
     "shell.execute_reply.started": "2022-02-21T20:22:00.341545Z"
    }
   },
   "outputs": [],
   "source": [
    "import os\n",
    "import gc\n",
    "import cv2\n",
    "import math\n",
    "import copy\n",
    "import time\n",
    "import random\n",
    "\n",
    "# For data manipulation\n",
    "import numpy as np\n",
    "import pandas as pd\n",
    "import matplotlib.pyplot as plt\n",
    "%matplotlib inline\n",
    "\n",
    "# Pytorch Imports\n",
    "import torch\n",
    "import torch.nn as nn\n",
    "import torch.optim as optim\n",
    "import torch.nn.functional as F\n",
    "from torch.optim import lr_scheduler\n",
    "from torch.utils.data import Dataset, DataLoader\n",
    "from torch.cuda import amp\n",
    "from torch.cuda.amp import autocast, GradScaler\n",
    "\n",
    "# Utils\n",
    "import joblib\n",
    "from tqdm import tqdm\n",
    "from collections import defaultdict\n",
    "\n",
    "# Sklearn Imports\n",
    "from sklearn.preprocessing import LabelEncoder\n",
    "from sklearn.model_selection import StratifiedKFold\n",
    "\n",
    "# For Image Models\n",
    "import timm\n",
    "\n",
    "# Albumentations for augmentations\n",
    "import albumentations as A\n",
    "from albumentations.pytorch import ToTensorV2\n",
    "\n",
    "\n",
    "import warnings\n",
    "warnings.filterwarnings(\"ignore\")\n",
    "# For descriptive error messages\n",
    "# os.environ['CUDA_LAUNCH_BLOCKING'] = \"1\""
   ]
  },
  {
   "cell_type": "code",
   "execution_count": null,
   "metadata": {
    "execution": {
     "iopub.execute_input": "2022-02-21T20:22:06.288878Z",
     "iopub.status.busy": "2022-02-21T20:22:06.287114Z",
     "iopub.status.idle": "2022-02-21T20:22:06.353668Z",
     "shell.execute_reply": "2022-02-21T20:22:06.352873Z",
     "shell.execute_reply.started": "2022-02-21T20:22:06.288840Z"
    }
   },
   "outputs": [],
   "source": [
    "CONFIG = {\"seed\": 42, \n",
    "          \"epochs\": 25, \n",
    "          \"img_size\": 768, \n",
    "          \"model_name\": \"tf_efficientnet_b6_ns\", # tf_efficientnet_b6_ns, tf_efficientnetv2_l_in21k, eca_nfnet_l2 \n",
    "          \"num_classes\": 15587, \n",
    "          \"embedding_size\": 512, \n",
    "          \"train_batch_size\": 32, \n",
    "          \"valid_batch_size\": 64, \n",
    "          \"learning_rate\": 1e-4, \n",
    "          \"scheduler\": 'CosineAnnealingLR',\n",
    "          \"min_lr\": 1e-7, \n",
    "          \"T_max\": 24, \n",
    "          \"weight_decay\":\n",
    "          \"n_fold\": 5, \n",
    "          \"n_accumulate\": 1, \n",
    "          \"device\": torch.device(\"cuda\" if torch.cuda.is_available() else \"cpu\"),\n",
    "          \"gpu_parallel\":True, \n",
    "          \"max_grad_norm\":1000,\n",
    "          \"amp\":False,\n",
    "          \"image_data\":\"fullbody\", \n",
    "          \"debug\":False, \n",
    "          \"num_workers\":10, \n",
    "\n",
    "          # ArcFace Hyperparameters\n",
    "          \"s\": 30.0, # arcface scale\n",
    "          \"m\": 0.30, # arcface margin\n",
    "          \"ls_eps\": 0.0, # arcface label smoothing\n",
    "          \"easy_margin\": False, # arcface easy_margin\n",
    "          }\n",
    "\n",
    "CONFIG[\"T_max\"] = CONFIG[\"epochs\"]-1 \n",
    "\n",
    "if CONFIG[\"debug\"]:\n",
    "    CONFIG[\"img_size\"] = 512\n",
    "    CONFIG[\"model_name\"] = \"tf_efficientnet_b0_ns\"\n",
    "    CONFIG[\"train_batch_size\"] = 32\n",
    "    CONFIG[\"valid_batch_size\"] = 64"
   ]
  },
  {
   "cell_type": "code",
   "execution_count": null,
   "metadata": {
    "execution": {
     "iopub.execute_input": "2022-02-21T20:22:06.360516Z",
     "iopub.status.busy": "2022-02-21T20:22:06.358726Z",
     "iopub.status.idle": "2022-02-21T20:22:06.373630Z",
     "shell.execute_reply": "2022-02-21T20:22:06.372961Z",
     "shell.execute_reply.started": "2022-02-21T20:22:06.360462Z"
    }
   },
   "outputs": [],
   "source": [
    "def seed_everything(seed):\n",
    "    random.seed(seed)\n",
    "    os.environ['PYTHONHASHSEED'] = str(seed)\n",
    "    np.random.seed(seed)\n",
    "    torch.manual_seed(seed)\n",
    "    torch.cuda.manual_seed(seed)\n",
    "    torch.backends.cudnn.deterministic = True\n",
    "    torch.backends.cudnn.benchmark = False # set True to be faster\n",
    "seed_everything(CONFIG['seed'])"
   ]
  },
  {
   "cell_type": "code",
   "execution_count": null,
   "metadata": {
    "execution": {
     "iopub.execute_input": "2022-02-21T20:22:06.380184Z",
     "iopub.status.busy": "2022-02-21T20:22:06.378261Z",
     "iopub.status.idle": "2022-02-21T20:22:06.385942Z",
     "shell.execute_reply": "2022-02-21T20:22:06.385142Z",
     "shell.execute_reply.started": "2022-02-21T20:22:06.380147Z"
    }
   },
   "outputs": [],
   "source": [
    "ROOT_DIR = '/home/workspace/happy-whale-and-dolphin'\n",
    "\n",
    "if CONFIG[\"image_data\"] == \"backfins\":\n",
    "    TRAIN_DIR = f'{ROOT_DIR}/train_backfins_images'\n",
    "    TEST_DIR = f'{ROOT_DIR}/test_backfins_images'\n",
    "    \n",
    "elif CONFIG[\"image_data\"] == \"fullbody\":\n",
    "    TRAIN_DIR = f'{ROOT_DIR}/train_fullbody_images'\n",
    "    TEST_DIR = f'{ROOT_DIR}/test_fullbody_images'\n",
    "    \n",
    "else:\n",
    "    TRAIN_DIR = f'{ROOT_DIR}/train_images'\n",
    "    TEST_DIR = f'{ROOT_DIR}/test_images'"
   ]
  },
  {
   "cell_type": "code",
   "execution_count": null,
   "metadata": {
    "execution": {
     "iopub.execute_input": "2022-02-21T20:22:06.393192Z",
     "iopub.status.busy": "2022-02-21T20:22:06.390455Z",
     "iopub.status.idle": "2022-02-21T20:22:06.398694Z",
     "shell.execute_reply": "2022-02-21T20:22:06.397811Z",
     "shell.execute_reply.started": "2022-02-21T20:22:06.393151Z"
    }
   },
   "outputs": [],
   "source": [
    "def get_train_file_path(id):\n",
    "    return f\"{TRAIN_DIR}/{id}\"\n",
    "\n",
    "df = pd.read_csv(f\"{ROOT_DIR}/train.csv\")\n",
    "df['file_path'] = df['image'].apply(get_train_file_path) \n",
    "df.head()"
   ]
  },
  {
   "cell_type": "code",
   "execution_count": null,
   "metadata": {
    "execution": {
     "iopub.execute_input": "2022-02-21T20:22:06.579020Z",
     "iopub.status.busy": "2022-02-21T20:22:06.576862Z",
     "iopub.status.idle": "2022-02-21T20:22:06.628782Z",
     "shell.execute_reply": "2022-02-21T20:22:06.628100Z",
     "shell.execute_reply.started": "2022-02-21T20:22:06.578978Z"
    }
   },
   "outputs": [],
   "source": [
    "encoder = LabelEncoder()\n",
    "df['individual_id'] = encoder.fit_transform(df['individual_id'])\n",
    "\n",
    "with open(f'{ROOT_DIR}/le.pkl', \"wb\") as fp:\n",
    "    joblib.dump(encoder, fp)"
   ]
  },
  {
   "cell_type": "code",
   "execution_count": null,
   "metadata": {
    "execution": {
     "iopub.execute_input": "2022-02-21T20:22:06.637156Z",
     "iopub.status.busy": "2022-02-21T20:22:06.635054Z",
     "iopub.status.idle": "2022-02-21T20:22:07.354390Z",
     "shell.execute_reply": "2022-02-21T20:22:07.353472Z",
     "shell.execute_reply.started": "2022-02-21T20:22:06.637118Z"
    }
   },
   "outputs": [],
   "source": [
    "skf = StratifiedKFold(n_splits=CONFIG['n_fold'])\n",
    "for fold, ( _, val_) in enumerate(skf.split(X=df, y=df.individual_id)):\n",
    "      df.loc[val_ , \"kfold\"] = fold"
   ]
  },
  {
   "cell_type": "code",
   "execution_count": null,
   "metadata": {
    "execution": {
     "iopub.execute_input": "2022-02-21T20:22:07.356230Z",
     "iopub.status.busy": "2022-02-21T20:22:07.355973Z",
     "iopub.status.idle": "2022-02-21T20:22:07.367164Z",
     "shell.execute_reply": "2022-02-21T20:22:07.366313Z",
     "shell.execute_reply.started": "2022-02-21T20:22:07.356195Z"
    }
   },
   "outputs": [],
   "source": [
    "class HappyWhaleDataset(Dataset):\n",
    "    '''\n",
    "    torch HappyWhale DataSets\n",
    "    '''\n",
    "    def __init__(self, df, transforms=None):\n",
    "        self.df = df # csv to dataframe\n",
    "        self.file_names = df['file_path'].values \n",
    "        self.labels = df['individual_id'].values \n",
    "        self.transforms = transforms\n",
    "        \n",
    "    def __len__(self):\n",
    "        return len(self.df) \n",
    "    \n",
    "    def __getitem__(self, index):\n",
    "        img_path = self.file_names[index]\n",
    "        img = cv2.imread(img_path)\n",
    "        img = cv2.cvtColor(img, cv2.COLOR_BGR2RGB) \n",
    "        label = self.labels[index] \n",
    "        \n",
    "        if self.transforms:\n",
    "            img = self.transforms(image=img)[\"image\"] \n",
    "            \n",
    "        return {\n",
    "            'image': img, \n",
    "            'label': torch.tensor(label, dtype=torch.long)\n",
    "        }"
   ]
  },
  {
   "cell_type": "code",
   "execution_count": null,
   "metadata": {
    "execution": {
     "iopub.execute_input": "2022-02-21T20:22:07.369181Z",
     "iopub.status.busy": "2022-02-21T20:22:07.368904Z",
     "iopub.status.idle": "2022-02-21T20:22:07.380879Z",
     "shell.execute_reply": "2022-02-21T20:22:07.380140Z",
     "shell.execute_reply.started": "2022-02-21T20:22:07.369146Z"
    }
   },
   "outputs": [],
   "source": [
    "data_transforms = {\n",
    "    \"train\": A.Compose([\n",
    "        A.Affine(rotate=(-15, 15), translate_percent=(0.0, 0.25), shear=(-3, 3), p=0.5),\n",
    "        A.RandomResizedCrop(CONFIG['img_size'], CONFIG['img_size'], scale=(0.9, 1.0), ratio=(0.75, 1.333)), \n",
    "        A.ToGray(p=0.1),\n",
    "        A.GaussianBlur(blur_limit=(3, 7), p=0.07), \n",
    "        A.GaussNoise(p=0.07), # 高斯噪音\n",
    "        A.RandomGridShuffle(grid=(2, 2), p=0.28), \n",
    "        A.RandomBrightnessContrast(p=0.5),\n",
    "        A.HorizontalFlip(p=0.1), \n",
    "        A.Normalize( \n",
    "                mean=[0.485, 0.456, 0.406], \n",
    "                std=[0.229, 0.224, 0.225], \n",
    "                max_pixel_value=255.0, \n",
    "                p=1.0\n",
    "            ),\n",
    "        ToTensorV2()], p=1.),\n",
    "    \n",
    "    \"valid\": A.Compose([\n",
    "        A.Resize(CONFIG['img_size'], CONFIG['img_size']), \n",
    "        A.Normalize(\n",
    "                mean=[0.485, 0.456, 0.406], \n",
    "                std=[0.229, 0.224, 0.225], \n",
    "                max_pixel_value=255.0, \n",
    "                p=1.0\n",
    "            ),\n",
    "        ToTensorV2()], p=1.\n",
    "        )\n",
    "}"
   ]
  },
  {
   "cell_type": "code",
   "execution_count": null,
   "metadata": {},
   "outputs": [],
   "source": [
    "from pylab import rcParams\n",
    "dataset_show = HappyWhaleDataset(df,\n",
    "               transforms=data_transforms['train'] \n",
    "               )\n",
    "rcParams['figure.figsize'] = 15,8\n",
    "for i in range(2):\n",
    "    f, axarr = plt.subplots(1,3)\n",
    "    for p in range(3):\n",
    "        idx = np.random.randint(0, len(dataset_show))\n",
    "        img_data = dataset_show[idx]\n",
    "        axarr[p].imshow(img_data[\"image\"].transpose(0, 1).transpose(1,2))\n",
    "        axarr[p].set_title(str(img_data[\"label\"]))"
   ]
  },
  {
   "cell_type": "code",
   "execution_count": null,
   "metadata": {
    "execution": {
     "iopub.execute_input": "2022-02-21T20:22:07.382605Z",
     "iopub.status.busy": "2022-02-21T20:22:07.382312Z",
     "iopub.status.idle": "2022-02-21T20:22:07.393609Z",
     "shell.execute_reply": "2022-02-21T20:22:07.392584Z",
     "shell.execute_reply.started": "2022-02-21T20:22:07.382570Z"
    }
   },
   "outputs": [],
   "source": [
    "class GeM(nn.Module):\n",
    "    def __init__(self, p=3, eps=1e-6):\n",
    "        super(GeM, self).__init__()\n",
    "        self.p = nn.Parameter(torch.ones(1)*p)\n",
    "        self.eps = eps\n",
    "\n",
    "    def forward(self, x):\n",
    "        return self.gem(x, p=self.p, eps=self.eps)\n",
    "        \n",
    "    def gem(self, x, p=3, eps=1e-6):\n",
    "        return F.avg_pool2d(x.clamp(min=eps).pow(p), (x.size(-2), x.size(-1))).pow(1./p)\n",
    "        \n",
    "    def __repr__(self):\n",
    "        return self.__class__.__name__ + \\\n",
    "                '(' + 'p=' + '{:.4f}'.format(self.p.data.tolist()[0]) + \\\n",
    "                ', ' + 'eps=' + str(self.eps) + ')'"
   ]
  },
  {
   "cell_type": "code",
   "execution_count": null,
   "metadata": {
    "execution": {
     "iopub.execute_input": "2022-02-21T20:22:07.395906Z",
     "iopub.status.busy": "2022-02-21T20:22:07.395437Z",
     "iopub.status.idle": "2022-02-21T20:22:07.411072Z",
     "shell.execute_reply": "2022-02-21T20:22:07.410190Z",
     "shell.execute_reply.started": "2022-02-21T20:22:07.395870Z"
    }
   },
   "outputs": [],
   "source": [
    "# Arcface\n",
    "class ArcMarginProduct(nn.Module):\n",
    "    r\"\"\"Implement of large margin arc distance: :\n",
    "        Args:\n",
    "            in_features: size of each input sample\n",
    "            out_features: size of each output sample\n",
    "            s: norm of input feature\n",
    "            m: margin\n",
    "            cos(theta + m)\n",
    "        \"\"\"\n",
    "    def __init__(self, in_features, out_features, s=30.0, \n",
    "                 m=0.50, easy_margin=False, ls_eps=0.0):\n",
    "        super(ArcMarginProduct, self).__init__()\n",
    "        self.in_features = in_features \n",
    "        self.out_features = out_features\n",
    "        self.s = s # re-scale\n",
    "        self.m = m # margin\n",
    "        self.ls_eps = ls_eps  # label smoothing\n",
    "        self.weight = nn.Parameter(torch.FloatTensor(out_features, in_features))\n",
    "        nn.init.xavier_uniform_(self.weight)\n",
    "        self.easy_margin = easy_margin \n",
    "        self.cos_m = math.cos(m) # cos margin\n",
    "        self.sin_m = math.sin(m) # sin margin\n",
    "        self.threshold = math.cos(math.pi - m) # cos(pi - m) = -cos(m)\n",
    "        self.mm = math.sin(math.pi - m) * m # sin(pi - m)*m = sin(m)*m\n",
    "\n",
    "    def forward(self, input, label):\n",
    "        # --------------------------- cos(theta) & phi(theta) ---------------------\n",
    "        cosine = F.linear(F.normalize(input), F.normalize(self.weight)) # 获得cosθ (vector)\n",
    "        sine = torch.sqrt(1.0 - torch.pow(cosine, 2)) # 获得cosθ\n",
    "        phi = cosine * self.cos_m - sine * self.sin_m # cosθ*cosm – sinθ*sinm = cos(θ + m)\n",
    "        phi = phi.float() # phi to float\n",
    "        cosine = cosine.float() # cosine to float\n",
    "        if self.easy_margin:\n",
    "            phi = torch.where(cosine > 0, phi, cosine)\n",
    "        else:\n",
    "            # if cos(θ) > cos(pi - m) means θ + m < math.pi, so phi = cos(θ + m);\n",
    "            # else means θ + m >= math.pi, we use Talyer extension to approximate the cos(θ + m).\n",
    "            # if fact, cos(θ + m) = cos(θ) - m * sin(θ) >= cos(θ) - m * sin(math.pi - m)\n",
    "            phi = torch.where(cosine > self.threshold, phi, cosine - self.mm) \n",
    "        # https://github.com/ronghuaiyang/arcface-pytorch/issues/48\n",
    "        # --------------------------- convert label to one-hot ---------------------\n",
    "        # one_hot = torch.zeros(cosine.size(), requires_grad=True, device='cuda')\n",
    "        one_hot = torch.zeros(cosine.size(), device=CONFIG['device'])\n",
    "        one_hot.scatter_(1, label.view(-1, 1).long(), 1)\n",
    "        if self.ls_eps > 0:\n",
    "            one_hot = (1 - self.ls_eps) * one_hot + self.ls_eps / self.out_features\n",
    "        # -------------torch.where(out_i = {x_i if condition_i else y_i) ------------\n",
    "        output = (one_hot * phi) + ((1.0 - one_hot) * cosine)\n",
    "        output *= self.s\n",
    "\n",
    "        return output"
   ]
  },
  {
   "cell_type": "code",
   "execution_count": null,
   "metadata": {
    "execution": {
     "iopub.execute_input": "2022-02-21T20:22:07.412817Z",
     "iopub.status.busy": "2022-02-21T20:22:07.412546Z",
     "iopub.status.idle": "2022-02-21T20:22:11.925499Z",
     "shell.execute_reply": "2022-02-21T20:22:11.924754Z",
     "shell.execute_reply.started": "2022-02-21T20:22:07.412781Z"
    }
   },
   "outputs": [],
   "source": [
    "class HappyWhaleModel(nn.Module):\n",
    "    def __init__(self, model_name, embedding_size, pretrained=True):\n",
    "        super(HappyWhaleModel, self).__init__()\n",
    "        self.model = timm.create_model(model_name, pretrained=pretrained) \n",
    "        if 'efficientnet' in model_name:\n",
    "            in_features = self.model.classifier.in_features\n",
    "            self.model.classifier = nn.Identity()\n",
    "            self.model.global_pool = nn.Identity()\n",
    "        elif 'nfnet' in model_name:\n",
    "            in_features = self.model.head.fc.in_features\n",
    "            self.model.head.fc = nn.Identity()\n",
    "            self.model.head.global_pool = nn.Identity()\n",
    "\n",
    "        self.pooling = GeM() # GeM Pooling\n",
    "        self.embedding = nn.Sequential(\n",
    "                            nn.BatchNorm1d(in_features),\n",
    "                            nn.Linear(in_features, embedding_size)\n",
    "                            )\n",
    "        # arcface\n",
    "        self.fc = ArcMarginProduct(embedding_size,\n",
    "                                   CONFIG[\"num_classes\"], \n",
    "                                   s=CONFIG[\"s\"],\n",
    "                                   m=CONFIG[\"m\"], \n",
    "                                   easy_margin=CONFIG[\"easy_margin\"], \n",
    "                                   ls_eps=CONFIG[\"ls_eps\"])\n",
    "\n",
    "    def forward(self, images, labels):\n",
    "        '''\n",
    "        train/valid\n",
    "        '''\n",
    "        features = self.model(images) \n",
    "        pooled_features = self.pooling(features).flatten(1)\n",
    "        embedding = self.embedding(pooled_features) # embedding\n",
    "        output = self.fc(embedding, labels) # arcface\n",
    "        return output\n",
    "    \n",
    "    def extract(self, images):\n",
    "        '''\n",
    "        test\n",
    "        '''\n",
    "        features = self.model(images) \n",
    "        pooled_features = self.pooling(features).flatten(1)\n",
    "        embedding = self.embedding(pooled_features) # embedding\n",
    "        return embedding\n",
    "\n",
    "model = HappyWhaleModel(CONFIG['model_name'], CONFIG['embedding_size']) \n",
    "\n",
    "if CONFIG['gpu_parallel']: \n",
    "    num_gpu = torch.cuda.device_count() \n",
    "    model = nn.DataParallel(model, device_ids=range(num_gpu)) \n",
    "_ = model.to(CONFIG['device']) "
   ]
  },
  {
   "cell_type": "code",
   "execution_count": null,
   "metadata": {
    "execution": {
     "iopub.execute_input": "2022-02-21T20:22:11.926887Z",
     "iopub.status.busy": "2022-02-21T20:22:11.926622Z",
     "iopub.status.idle": "2022-02-21T20:22:11.931342Z",
     "shell.execute_reply": "2022-02-21T20:22:11.930590Z",
     "shell.execute_reply.started": "2022-02-21T20:22:11.926853Z"
    }
   },
   "outputs": [],
   "source": [
    "def criterion(outputs, labels):\n",
    "    return nn.CrossEntropyLoss()(outputs, labels)"
   ]
  },
  {
   "cell_type": "code",
   "execution_count": null,
   "metadata": {
    "execution": {
     "iopub.execute_input": "2022-02-21T20:22:11.934076Z",
     "iopub.status.busy": "2022-02-21T20:22:11.932816Z",
     "iopub.status.idle": "2022-02-21T20:22:11.950077Z",
     "shell.execute_reply": "2022-02-21T20:22:11.949201Z",
     "shell.execute_reply.started": "2022-02-21T20:22:11.934039Z"
    }
   },
   "outputs": [],
   "source": [
    "def train_one_epoch(model, optimizer, scheduler, dataloader, device, epoch):\n",
    "    model.train() #\n",
    "    scaler = GradScaler() \n",
    "    dataset_size = 0 \n",
    "    running_loss = 0.0 \n",
    "    pred_correct = 0 \n",
    "    counter = 0 \n",
    "    correct_top5 = 0 \n",
    "    bar = tqdm(enumerate(dataloader), total=len(dataloader)) \n",
    "    for step, data in bar: \n",
    "        images = data['image'].to(device, dtype=torch.float) \n",
    "        labels = data['label'].to(device, dtype=torch.long) \n",
    "        \n",
    "        batch_size = images.size(0) \n",
    "        if CONFIG[\"amp\"]: \n",
    "            with autocast(): \n",
    "                outputs = model(images, labels) \n",
    "                loss = criterion(outputs, labels) \n",
    "        else:\n",
    "            outputs = model(images, labels) \n",
    "            loss = criterion(outputs, labels) \n",
    "\n",
    "        loss = loss / CONFIG['n_accumulate'] \n",
    "        if CONFIG[\"amp\"]:\n",
    "            scaler.scale(loss).backward() \n",
    "        else:\n",
    "            loss.backward() \n",
    "        grad_norm = torch.nn.utils.clip_grad_norm_(model.parameters(), CONFIG['max_grad_norm']) \n",
    "        if (step + 1) % CONFIG['n_accumulate'] == 0:\n",
    "            if CONFIG[\"amp\"]:\n",
    "                scaler.step(optimizer)\n",
    "                scaler.update() \n",
    "            else:\n",
    "                optimizer.step() \n",
    "            optimizer.zero_grad() \n",
    "\n",
    "            if scheduler is not None:\n",
    "                scheduler.step() \n",
    "                \n",
    "        running_loss += (loss.item() * batch_size) \n",
    "        dataset_size += batch_size \n",
    "        epoch_loss = running_loss / dataset_size\n",
    "\n",
    "        outputs = outputs.detach().cpu().numpy() \n",
    "        labels = labels.detach().cpu().numpy() \n",
    "        counter += len(labels) \n",
    "        \n",
    "        pred_correct += (np.argmax(outputs, -1) == labels).sum() \n",
    "        acc = pred_correct / counter \n",
    "\n",
    "        outputs_top5 = outputs.argsort()[:, -5:][:,::-1] \n",
    "        labels_top5 = np.expand_dims(labels, axis=1) \n",
    "        correct_top5 += sum(np.any((labels_top5 == outputs_top5),axis=1)) \n",
    "        acc_top5 = correct_top5 / counter \n",
    "\n",
    "        bar.set_postfix(Epoch=epoch,\n",
    "                        Train_Loss=epoch_loss,\n",
    "                        Train_Acc=acc,\n",
    "                        Train_Top5_Acc=acc_top5,\n",
    "                        grad_norm=grad_norm.item(),\n",
    "                        LR=optimizer.param_groups[0]['lr']\n",
    "                        )\n",
    "    gc.collect()\n",
    "    return epoch_loss"
   ]
  },
  {
   "cell_type": "code",
   "execution_count": null,
   "metadata": {
    "execution": {
     "iopub.execute_input": "2022-02-21T20:22:11.953398Z",
     "iopub.status.busy": "2022-02-21T20:22:11.953202Z",
     "iopub.status.idle": "2022-02-21T20:22:11.963536Z",
     "shell.execute_reply": "2022-02-21T20:22:11.962798Z",
     "shell.execute_reply.started": "2022-02-21T20:22:11.953369Z"
    }
   },
   "outputs": [],
   "source": [
    "@torch.inference_mode()\n",
    "def valid_one_epoch(model, dataloader, device, epoch):\n",
    "    model.eval()\n",
    "    \n",
    "    dataset_size = 0 \n",
    "    running_loss = 0.0 \n",
    "    pred_correct = 0 \n",
    "    counter = 0 \n",
    "    correct_top5 = 0 \n",
    "    bar = tqdm(enumerate(dataloader), total=len(dataloader)) \n",
    "    for step, data in bar:        \n",
    "        images = data['image'].to(device, dtype=torch.float) \n",
    "        labels = data['label'].to(device, dtype=torch.long) \n",
    "        \n",
    "        batch_size = images.size(0)  \n",
    "\n",
    "        outputs = model(images, labels) \n",
    "        loss = criterion(outputs, labels)\n",
    "    \n",
    "        running_loss += (loss.item() * batch_size)\n",
    "        dataset_size += batch_size\n",
    "        epoch_loss = running_loss / dataset_size\n",
    "\n",
    "            \n",
    "        outputs = outputs.detach().cpu().numpy()  \n",
    "        labels = labels.detach().cpu().numpy() \n",
    "        counter += len(labels) \n",
    "\n",
    "        pred_correct += (np.argmax(outputs, -1) == labels).sum() \n",
    "        acc = pred_correct / counter \n",
    "\n",
    "        outputs_top5 = outputs.argsort()[:, -5:][:,::-1] \n",
    "        labels_top5 = np.expand_dims(labels, axis=1)\n",
    "        correct_top5 += sum(np.any((labels_top5 == outputs_top5),axis=1)) \n",
    "        acc_top5 = correct_top5 / counter \n",
    "        \n",
    "        bar.set_postfix(Epoch=epoch,\n",
    "                        Valid_Loss=epoch_loss,\n",
    "                        Valid_Acc=acc,\n",
    "                        Valid_Top5_Acc=acc_top5,\n",
    "                        LR=optimizer.param_groups[0]['lr'])   \n",
    "\n",
    "    gc.collect()\n",
    "    return epoch_loss "
   ]
  },
  {
   "cell_type": "code",
   "execution_count": null,
   "metadata": {
    "execution": {
     "iopub.execute_input": "2022-02-21T20:22:11.966828Z",
     "iopub.status.busy": "2022-02-21T20:22:11.966278Z",
     "iopub.status.idle": "2022-02-21T20:22:11.978974Z",
     "shell.execute_reply": "2022-02-21T20:22:11.978096Z",
     "shell.execute_reply.started": "2022-02-21T20:22:11.966790Z"
    }
   },
   "outputs": [],
   "source": [
    "def run_training(model, optimizer, scheduler, device, num_epochs):  \n",
    "    if torch.cuda.is_available():\n",
    "        print(\"[INFO] Using GPU: {}\\n\".format(torch.cuda.get_device_name()))\n",
    "    \n",
    "    start = time.time()\n",
    "    best_model_wts = copy.deepcopy(model.state_dict()) \n",
    "    best_epoch_loss = np.inf \n",
    "    history = defaultdict(list)\n",
    "    \n",
    "    for epoch in range(1, num_epochs + 1): \n",
    "        gc.collect()\n",
    "        train_epoch_loss = train_one_epoch(model, optimizer, scheduler, dataloader=train_loader, device=CONFIG['device'], epoch=epoch) \n",
    "        val_epoch_loss = valid_one_epoch(model, valid_loader, device=CONFIG['device'], epoch=epoch) \n",
    "    \n",
    "        history['Train Loss'].append(train_epoch_loss) \n",
    "        history['Valid Loss'].append(val_epoch_loss)\n",
    "        \n",
    "        # deep copy the model\n",
    "        if val_epoch_loss <= best_epoch_loss:\n",
    "            print(f\"Validation Loss Improved ({best_epoch_loss} ---> {val_epoch_loss})\") \n",
    "            best_epoch_loss = val_epoch_loss \n",
    "            best_model_wts = copy.deepcopy(model.state_dict()) \n",
    "            PATH = \"Loss{:.4f}_epoch{:.0f}.bin\".format(best_epoch_loss, epoch)\n",
    "            torch.save(model.state_dict(), PATH) \n",
    "            # Save a model file from the current directory\n",
    "            print(f\"Model Saved\")\n",
    "        print()\n",
    "    \n",
    "    end = time.time()\n",
    "    time_elapsed = end - start\n",
    "    print('Training complete in {:.0f}h {:.0f}m {:.0f}s'.format(time_elapsed // 3600, (time_elapsed % 3600) // 60, (time_elapsed % 3600) % 60)) # 打印本次训练的耗时\n",
    "    print(\"Best Loss: {:.4f}\".format(best_epoch_loss)) # 打印 best loss\n",
    "    \n",
    "    # load best model weights\n",
    "    model.load_state_dict(best_model_wts)\n",
    "    \n",
    "    return model, history "
   ]
  },
  {
   "cell_type": "code",
   "execution_count": null,
   "metadata": {
    "execution": {
     "iopub.execute_input": "2022-02-21T20:22:11.980454Z",
     "iopub.status.busy": "2022-02-21T20:22:11.980044Z",
     "iopub.status.idle": "2022-02-21T20:22:11.992164Z",
     "shell.execute_reply": "2022-02-21T20:22:11.991370Z",
     "shell.execute_reply.started": "2022-02-21T20:22:11.980395Z"
    }
   },
   "outputs": [],
   "source": [
    "def fetch_scheduler(optimizer):\n",
    "\n",
    "    if CONFIG['scheduler'] == 'CosineAnnealingLR':\n",
    "        scheduler = lr_scheduler.CosineAnnealingLR(optimizer, T_max=CONFIG['T_max'], eta_min=CONFIG['min_lr'])\n",
    "    elif CONFIG['scheduler'] == 'CosineAnnealingWarmRestarts':\n",
    "        scheduler = lr_scheduler.CosineAnnealingWarmRestarts(optimizer,T_0=CONFIG['T_0'], eta_min=CONFIG['min_lr'])\n",
    "    elif CONFIG['scheduler'] == None:\n",
    "        return None\n",
    "        \n",
    "    return scheduler"
   ]
  },
  {
   "cell_type": "code",
   "execution_count": null,
   "metadata": {
    "execution": {
     "iopub.execute_input": "2022-02-21T20:22:11.995858Z",
     "iopub.status.busy": "2022-02-21T20:22:11.993291Z",
     "iopub.status.idle": "2022-02-21T20:22:12.003196Z",
     "shell.execute_reply": "2022-02-21T20:22:12.002440Z",
     "shell.execute_reply.started": "2022-02-21T20:22:11.995823Z"
    }
   },
   "outputs": [],
   "source": [
    "def prepare_loaders(df, fold):\n",
    "    df_train = df[df.kfold != fold].reset_index(drop=True) \n",
    "    df_valid = df[df.kfold == fold].reset_index(drop=True) \n",
    "    \n",
    "    train_dataset = HappyWhaleDataset(df_train, transforms=data_transforms[\"train\"]) \n",
    "    valid_dataset = HappyWhaleDataset(df_valid, transforms=data_transforms[\"valid\"]) \n",
    "\n",
    "    train_loader = DataLoader(train_dataset, batch_size=CONFIG['train_batch_size'],  num_workers=CONFIG[\"num_workers\"], shuffle=True,  pin_memory=False, drop_last=True) \n",
    "    valid_loader = DataLoader(valid_dataset, batch_size=CONFIG['valid_batch_size'],  num_workers=CONFIG[\"num_workers\"], shuffle=False, pin_memory=False) \n",
    "    \n",
    "    return train_loader, valid_loader"
   ]
  },
  {
   "cell_type": "markdown",
   "metadata": {},
   "source": [
    "<span style=\"color: #000508; font-family: Segoe UI; font-size: 1.5em; font-weight: 300;\">Prepare Dataloaders</span>"
   ]
  },
  {
   "cell_type": "code",
   "execution_count": null,
   "metadata": {
    "execution": {
     "iopub.execute_input": "2022-02-21T20:22:12.004720Z",
     "iopub.status.busy": "2022-02-21T20:22:12.004457Z",
     "iopub.status.idle": "2022-02-21T20:22:12.024517Z",
     "shell.execute_reply": "2022-02-21T20:22:12.023870Z",
     "shell.execute_reply.started": "2022-02-21T20:22:12.004683Z"
    }
   },
   "outputs": [],
   "source": [
    "train_loader, valid_loader = prepare_loaders(df, fold=0) \n",
    "optimizer = optim.AdamW(model.parameters(), lr=CONFIG['learning_rate'], weight_decay=CONFIG['weight_decay']) \n",
    "scheduler = fetch_scheduler(optimizer) # 定义调度器\n",
    "model, history = run_training(model, optimizer, scheduler, device=CONFIG['device'], num_epochs=CONFIG['epochs'])"
   ]
  },
  {
   "cell_type": "code",
   "execution_count": null,
   "metadata": {},
   "outputs": [],
   "source": []
  }
 ],
 "metadata": {
  "kernelspec": {
   "display_name": "Python [conda env:kaggle]",
   "language": "python",
   "name": "conda-env-kaggle-py"
  },
  "language_info": {
   "codemirror_mode": {
    "name": "ipython",
    "version": 3
   },
   "file_extension": ".py",
   "mimetype": "text/x-python",
   "name": "python",
   "nbconvert_exporter": "python",
   "pygments_lexer": "ipython3",
   "version": "3.8.12"
  },
  "toc": {
   "base_numbering": 1,
   "nav_menu": {},
   "number_sections": true,
   "sideBar": true,
   "skip_h1_title": false,
   "title_cell": "Table of Contents",
   "title_sidebar": "Contents",
   "toc_cell": false,
   "toc_position": {},
   "toc_section_display": true,
   "toc_window_display": false
  }
 },
 "nbformat": 4,
 "nbformat_minor": 4
}
